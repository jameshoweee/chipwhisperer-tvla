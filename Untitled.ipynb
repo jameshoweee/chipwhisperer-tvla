{
 "cells": [
  {
   "cell_type": "code",
   "execution_count": 7,
   "metadata": {},
   "outputs": [],
   "source": [
    "from cwtvla.key_schedule import key_schedule_rounds\n",
    "from cwtvla.aes_cipher import AESCipher"
   ]
  },
  {
   "cell_type": "code",
   "execution_count": 9,
   "metadata": {},
   "outputs": [],
   "source": [
    "ktp = cwtvla.ktp.FixedVRandomText()"
   ]
  },
  {
   "cell_type": "code",
   "execution_count": 24,
   "metadata": {},
   "outputs": [
    {
     "name": "stdout",
     "output_type": "stream",
     "text": [
      "CWbytearray(b'01 23 45 67 89 ab cd ef 12 34 56 78 9a bc de f0')\n"
     ]
    }
   ],
   "source": [
    "I_fixed = ktp._I_fixed\n",
    "K_dev = ktp._K_dev\n",
    "K_gen = ktp._K_gen\n",
    "print(bytearray(K_dev))"
   ]
  },
  {
   "cell_type": "code",
   "execution_count": 13,
   "metadata": {},
   "outputs": [],
   "source": [
    "K_gen_exp = cwtvla.ktp._expand_aes_key(K_gen)\n",
    "K_dev_exp = cwtvla.ktp._expand_aes_key(K_dev)\n",
    "cipher = AESCipher(K_dev_exp)"
   ]
  },
  {
   "cell_type": "code",
   "execution_count": 22,
   "metadata": {},
   "outputs": [
    {
     "data": {
      "text/plain": [
       "[218, 57, 163, 238, 94, 107, 75, 13, 50, 85, 191, 239, 149, 96, 24, 144]"
      ]
     },
     "execution_count": 22,
     "metadata": {},
     "output_type": "execute_result"
    }
   ],
   "source": [
    "text = list(I_fixed)\n",
    "text = text + [0]*(16-len(text))\n",
    "text"
   ]
  },
  {
   "cell_type": "code",
   "execution_count": 23,
   "metadata": {},
   "outputs": [
    {
     "name": "stdout",
     "output_type": "stream",
     "text": [
      "Round input: CWbytearray(b'db 1a e6 89 d7 c0 86 e2 20 61 e9 97 0f dc c6 60')\n",
      "Round input: CWbytearray(b'17 1a 9d 10 c9 3e 64 2c 0c 10 d7 a9 b9 70 53 cf')\n",
      "Round input: CWbytearray(b'71 4d 7e 24 ec 7b 32 78 ea a1 73 10 74 6c 63 fa')\n",
      "Round input: CWbytearray(b'd4 ce 1f 43 7b cd 05 09 1c bc 48 53 eb ba b0 bf')\n",
      "Round input: CWbytearray(b'e8 7a ea 15 89 29 52 02 ca f6 a0 5f e5 2d 0a 8a')\n",
      "Round input: CWbytearray(b'47 6d f9 4c 34 db b3 f1 dd f1 03 6f 89 eb f8 e6')\n",
      "Round input: CWbytearray(b'5e e0 25 c5 19 89 70 f5 8e f0 ea 5c 41 7b 00 0c')\n",
      "Round input: CWbytearray(b'b1 71 d9 fe ca e6 75 61 b4 27 7e 71 97 83 b5 cd')\n",
      "Round input: CWbytearray(b'96 0e b8 5d 20 68 1a 54 21 65 ed bf b7 31 93 b8')\n",
      "Round input: [3, 126, 126, 113, 21, 169, 253, 101, 13, 208, 62, 118, 139, 198, 158, 32]\n"
     ]
    }
   ],
   "source": [
    "cipher._add_round_key(text, 0)\n",
    "for i in range(1, 10):\n",
    "    print(\"Round input: {}\".format(bytearray(text)))\n",
    "    cipher._sub_bytes(text)\n",
    "    cipher._shift_rows(text)\n",
    "    cipher._mix_columns(text, False)\n",
    "    cipher._add_round_key(text, i)\n",
    "    \n",
    "print(\"Round input: {}\".format(text))    \n",
    "cipher._sub_bytes(text)\n",
    "cipher._shift_rows(text)\n",
    "cipher._add_round_key(text, 10)"
   ]
  },
  {
   "cell_type": "code",
   "execution_count": null,
   "metadata": {},
   "outputs": [],
   "source": [
    "def test_1(text):\n",
    "    for i in range(16):\n",
    "        if text[i] == 0:\n",
    "            return True\n",
    "    return False\n",
    "\n",
    "def test_2(text, rnd):\n",
    "    state = list(text)\n",
    "    cipher._add_round_key(state, rnd)\n",
    "    for i in range(16):\n",
    "        if state[i] == 0:\n",
    "            return True\n",
    "    return False\n",
    "\n",
    "def test_3(text, rnd):\n",
    "    state = list(text)\n",
    "    cipher._sub_bytes(state)\n",
    "    cipher._shift_rows(state)\n",
    "    cipher._mix_columns(state)"
   ]
  }
 ],
 "metadata": {
  "kernelspec": {
   "display_name": "Python 3",
   "language": "python",
   "name": "python3"
  },
  "language_info": {
   "codemirror_mode": {
    "name": "ipython",
    "version": 3
   },
   "file_extension": ".py",
   "mimetype": "text/x-python",
   "name": "python",
   "nbconvert_exporter": "python",
   "pygments_lexer": "ipython3",
   "version": "3.7.7"
  }
 },
 "nbformat": 4,
 "nbformat_minor": 4
}
